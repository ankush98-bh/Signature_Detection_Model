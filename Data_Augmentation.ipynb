{
 "cells": [
  {
   "cell_type": "code",
   "execution_count": 1,
   "metadata": {
    "executionInfo": {
     "elapsed": 3240,
     "status": "ok",
     "timestamp": 1691755279874,
     "user": {
      "displayName": "Ankush Husenkar",
      "userId": "03096652235045813128"
     },
     "user_tz": -330
    },
    "id": "XFRa6cr9CMK_"
   },
   "outputs": [],
   "source": [
    "import matplotlib.pyplot as plt\n",
    "import keras.utils as image\n",
    "from PIL import Image\n",
    "from keras.preprocessing.image import ImageDataGenerator\n",
    "from numpy import asarray\n",
    "import os"
   ]
  },
  {
   "cell_type": "code",
   "execution_count": 3,
   "metadata": {
    "executionInfo": {
     "elapsed": 769,
     "status": "ok",
     "timestamp": 1691757084596,
     "user": {
      "displayName": "Ankush Husenkar",
      "userId": "03096652235045813128"
     },
     "user_tz": -330
    },
    "id": "b4Az4xs7rs9R"
   },
   "outputs": [],
   "source": [
    "def data_augmentation(path):\n",
    "\n",
    "    img=Image.open(path)\n",
    "    numpy_img=asarray(img)     #open image and converted into array \n",
    "    x=numpy_img.shape\n",
    "    a,b,c = x[0],x[1],x[2]\n",
    "    input_img=numpy_img.reshape(1,a,b,c)\n",
    "    print(x)\n",
    "\n",
    "    datagen=ImageDataGenerator(\n",
    "        rotation_range=30,\n",
    "        shear_range=0.2,\n",
    "        zoom_range=0.2,\n",
    "        horizontal_flip=True,\n",
    "        vertical_flip=True,\n",
    "        width_shift_range=0.2,\n",
    "        height_shift_range=0.2)\n",
    "\n",
    "    i =0\n",
    "    for output in datagen.flow(input_img,batch_size=1,save_to_dir=r'C:\\Users\\HP\\Desktop\\Data Science\\Ankush_AINXT\\Ankush_Augmented'):\n",
    "        i+=1\n",
    "\n",
    "        if i==15:\n",
    "            print('Data Augmentation Process is Completed')\n",
    "            break\n",
    "\n",
    "data_augmentation(r'C:\\Users\\HP\\Desktop\\Data Science\\Ankush_AINXT\\With_sign_data/')"
   ]
  },
  {
   "cell_type": "code",
   "execution_count": null,
   "metadata": {
    "id": "gbZZ2ut4H8RR"
   },
   "outputs": [],
   "source": []
  },
  {
   "cell_type": "code",
   "execution_count": null,
   "metadata": {
    "id": "HYOzbWCFH8UA"
   },
   "outputs": [],
   "source": []
  },
  {
   "cell_type": "code",
   "execution_count": null,
   "metadata": {
    "id": "D4GiJ4LaH8WO"
   },
   "outputs": [],
   "source": []
  },
  {
   "cell_type": "code",
   "execution_count": null,
   "metadata": {
    "id": "3z_AivZPH8Zi"
   },
   "outputs": [],
   "source": []
  }
 ],
 "metadata": {
  "accelerator": "GPU",
  "colab": {
   "authorship_tag": "ABX9TyNSBHERj85SF84AFkvsPcnY",
   "gpuType": "T4",
   "mount_file_id": "1WI1VTMagbX5wR42GUAMBbJ1QyYmY0a3e",
   "provenance": []
  },
  "kernelspec": {
   "display_name": "Python 3 (ipykernel)",
   "language": "python",
   "name": "python3"
  },
  "language_info": {
   "codemirror_mode": {
    "name": "ipython",
    "version": 3
   },
   "file_extension": ".py",
   "mimetype": "text/x-python",
   "name": "python",
   "nbconvert_exporter": "python",
   "pygments_lexer": "ipython3",
   "version": "3.10.4"
  }
 },
 "nbformat": 4,
 "nbformat_minor": 1
}
